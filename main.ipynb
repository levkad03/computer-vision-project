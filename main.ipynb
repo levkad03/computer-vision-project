{
 "cells": [
  {
   "cell_type": "markdown",
   "id": "dcab4c25",
   "metadata": {},
   "source": [
    "**1. Upload the video file to data folder**"
   ]
  },
  {
   "cell_type": "code",
   "execution_count": null,
   "id": "ba3d7610",
   "metadata": {
    "vscode": {
     "languageId": "plaintext"
    }
   },
   "outputs": [],
   "source": []
  }
 ],
 "metadata": {
  "language_info": {
   "name": "python"
  }
 },
 "nbformat": 4,
 "nbformat_minor": 5
}

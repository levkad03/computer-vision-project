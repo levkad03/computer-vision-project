{
 "cells": [
  {
   "cell_type": "markdown",
   "id": "dcab4c25",
   "metadata": {},
   "source": [
    "**1. Upload the video file to data folder**"
   ]
  },
  {
   "cell_type": "code",
   "execution_count": 142,
   "id": "ba3d7610",
   "metadata": {},
   "outputs": [],
   "source": [
    "import cv2\n",
    "import numpy as np\n",
    "import matplotlib.pyplot as plt"
   ]
  },
  {
   "cell_type": "code",
   "execution_count": 143,
   "id": "f7ed6ae2",
   "metadata": {},
   "outputs": [],
   "source": [
    "# Відкриваємо файли\n",
    "cap = cv2.VideoCapture(\"data/Match.mp4\")\n",
    "template = cv2.imread(\"data/template.png\", 0)\n",
    "h, w = template.shape[:2]"
   ]
  },
  {
   "cell_type": "code",
   "execution_count": 144,
   "id": "7c3ea78b",
   "metadata": {},
   "outputs": [],
   "source": [
    "output_size = (1080, 1920)\n",
    "fourcc = cv2.VideoWriter_fourcc(*'mp4v')  # або 'XVID' для .avi\n",
    "out = cv2.VideoWriter('data/output.mp4', fourcc, 30.0, output_size)"
   ]
  },
  {
   "cell_type": "code",
   "execution_count": 145,
   "id": "4bc78f43",
   "metadata": {},
   "outputs": [],
   "source": [
    "# 4 опорні точки з кадру з відео)\n",
    "pts_src = np.array([[210, 60], [945, 60], [1113, 1240], [114, 1240]], dtype=np.float32)\n",
    "\n",
    "# відповідні точки на \"випрямленому\" зображенні\n",
    "pts_dst = np.array([[0, 0], [1080, 0], [1080, 1920], [0, 1920]], dtype=np.float32)\n",
    "\n",
    "# Матриця гомографії для вирівнювання перспективи\n",
    "H, _ = cv2.findHomography(pts_src, pts_dst)"
   ]
  },
  {
   "cell_type": "code",
   "execution_count": 146,
   "id": "b3fbd3e4",
   "metadata": {},
   "outputs": [],
   "source": [
    "while True:\n",
    "    ret, frame = cap.read()\n",
    "    if not ret:\n",
    "        break\n",
    "\n",
    "    # перетворення перспективи до кадру\n",
    "    warped = cv2.warpPerspective(frame, H, (1080, 1920))\n",
    "    gray = cv2.cvtColor(warped, cv2.COLOR_BGR2GRAY) # у сірий\n",
    "\n",
    "    # шукаю шаблон на кадрі\n",
    "    res = cv2.matchTemplate(gray, template, cv2.TM_CCOEFF_NORMED)\n",
    "    min_val, max_val, min_loc, max_loc = cv2.minMaxLoc(res)\n",
    "\n",
    "    # якщо результат співпадіння перевищує трешхолд — об'єкт знайдено\n",
    "    threshold = 0.83\n",
    "    if max_val >= threshold:\n",
    "        top_left = max_loc\n",
    "        h, w = template.shape\n",
    "        bottom_right = (top_left[0] + w, top_left[1] + h)\n",
    "\n",
    "        # малюю прямокутник навколо знайденого об'єкта\n",
    "        cv2.rectangle(warped, top_left, bottom_right, (255, 0, 0), 2)\n",
    "        \n",
    "        # підписую знайдений об'єкт\n",
    "        cv2.putText(warped, f\"{max_val:.3f}\", (top_left[0], top_left[1] - 10),\n",
    "                    cv2.FONT_HERSHEY_SIMPLEX, 0.6, (255, 0, 0), 2)\n",
    "\n",
    "    # Записуємо оброблений кадр у відео\n",
    "    out.write(warped)\n",
    "    \n",
    "    # зменшую розмір кадру в 2 рази для зручного перегляду\n",
    "    scaled_warped = cv2.resize(warped, (0, 0), fx=1, fy=1)\n",
    "    cv2.imshow(\"Warped View\", scaled_warped)\n",
    "\n",
    "    # вихід по клавіші Esc\n",
    "    if cv2.waitKey(30) & 0xFF == 27:\n",
    "        break\n",
    "\n",
    "cap.release()\n",
    "out.release()\n",
    "cv2.destroyAllWindows()"
   ]
  }
 ],
 "metadata": {
  "kernelspec": {
   "display_name": "venv",
   "language": "python",
   "name": "python3"
  },
  "language_info": {
   "codemirror_mode": {
    "name": "ipython",
    "version": 3
   },
   "file_extension": ".py",
   "mimetype": "text/x-python",
   "name": "python",
   "nbconvert_exporter": "python",
   "pygments_lexer": "ipython3",
   "version": "3.11.9"
  }
 },
 "nbformat": 4,
 "nbformat_minor": 5
}
